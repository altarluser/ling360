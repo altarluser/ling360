{
  "cells": [
    {
      "cell_type": "markdown",
      "id": "868e40fb-4c93-484e-9488-84bec44cce3d",
      "metadata": {
        "id": "868e40fb-4c93-484e-9488-84bec44cce3d"
      },
      "source": [
        "# Assignment 1\n",
        "\n",
        "This is the <font color='cyan'>Assignment 1</font> for the LING360 - Computational Methods in Lingustics course and it is worth a total of  <font color='cyan'>**5 points**</font>.\n",
        "The assignment covers the basic knowledge of Python. \n",
        "\n",
        "The topics include:\n",
        "1. Variables\n",
        "2. String Operations\n",
        "3. List indexing\n",
        "\n",
        "There's a total of  <font color='cyan'>**3 main tasks**</font>. For each task, please write your code between the following lines:\n",
        "\n",
        "```\n",
        "## YOUR CODE STARTS\n",
        "\n",
        "\n",
        "## YOUR CODE ENDS\n",
        "```\n",
        "\n",
        "Before working on the assignment, please copy this notebook to your own drive. You can use ```Save a copy in Drive``` under the ```File``` menu on top left.\n",
        "\n",
        "Please, run every cell in your code to make sure that it works properly before submitting it. \n",
        "\n",
        "Once you are ready to submit, download two versions of your code:\n",
        "\n",
        "*   Download .ipynb\n",
        "*   Download .py\n",
        "\n",
        "These are both available under the ```File``` menu on top left. \n",
        "\n",
        "Then, compress your files (zip, rar, or whatever) and upload the compressed file to Moodle.\n",
        "\n",
        "If you have any questions, please contact karahan.sahin@boun.edu.tr\n"
      ]
    },
    {
      "cell_type": "markdown",
      "id": "66c10214-e5f8-4d72-82b0-edff5e3aa8af",
      "metadata": {
        "id": "66c10214-e5f8-4d72-82b0-edff5e3aa8af"
      },
      "source": [
        "<font color='#FFBD33'>**Q1:**</font> Create a variable called `my_name` and print it with `print` function. \n",
        "\n",
        "\n",
        "`(0.5 Points)`"
      ]
    },
    {
      "cell_type": "code",
      "execution_count": 1,
      "id": "824e92c7-663a-498b-8caa-06baa9b336b6",
      "metadata": {
        "id": "824e92c7-663a-498b-8caa-06baa9b336b6",
        "colab": {
          "base_uri": "https://localhost:8080/"
        },
        "outputId": "f7be4ceb-774e-4df5-9c9b-7199dd6e70e3"
      },
      "outputs": [
        {
          "output_type": "stream",
          "name": "stdout",
          "text": [
            "Altar\n"
          ]
        }
      ],
      "source": [
        "## YOUR CODE STARTS\n",
        "my_name = \"Altar\"\n",
        "print(my_name)\n",
        "\n",
        "## YOUR CODE ENDS"
      ]
    },
    {
      "cell_type": "markdown",
      "id": "f3f5787a-54e0-4b6c-ab0d-1933ff79a853",
      "metadata": {
        "id": "f3f5787a-54e0-4b6c-ab0d-1933ff79a853"
      },
      "source": [
        "<font color='#FFBD33'>**Q2:**</font> Create a variable called my_introduction which says **\"Hello, my name is `my_name`\"** and print it print it with `print` function. \n",
        "\n",
        "`(0.5 Points)`"
      ]
    },
    {
      "cell_type": "code",
      "execution_count": 6,
      "id": "d34ca73b-ba3d-41d7-a45c-f338c1b9fdac",
      "metadata": {
        "id": "d34ca73b-ba3d-41d7-a45c-f338c1b9fdac",
        "colab": {
          "base_uri": "https://localhost:8080/"
        },
        "outputId": "ecbba56b-d6bf-4480-bf66-729c73e80db5"
      },
      "outputs": [
        {
          "output_type": "stream",
          "name": "stdout",
          "text": [
            "Hello, my name is Altar\n"
          ]
        }
      ],
      "source": [
        "## YOUR CODE STARTS\n",
        "my_introduction = f\"Hello, my name is {my_name}\"\n",
        "print(my_introduction)\n",
        "\n",
        "## YOUR CODE ENDS"
      ]
    },
    {
      "cell_type": "markdown",
      "id": "03dcb99e-1d0b-421f-a67d-b58ce4995d79",
      "metadata": {
        "id": "03dcb99e-1d0b-421f-a67d-b58ce4995d79"
      },
      "source": [
        "<font color='#FFBD33'>**Q3:**</font> Create a variable called `my_friends` which contains three names and print **\"Hello `friend-name`, my name is `my_name`\"**  for each name by accessing with indices.  \n",
        "\n",
        "`(0.5 Points)`"
      ]
    },
    {
      "cell_type": "code",
      "execution_count": 14,
      "id": "b41911c8-19b7-46c5-8209-e6b252ff0120",
      "metadata": {
        "id": "b41911c8-19b7-46c5-8209-e6b252ff0120",
        "colab": {
          "base_uri": "https://localhost:8080/"
        },
        "outputId": "21e58e58-4361-4f09-bfed-07e3ba877116"
      },
      "outputs": [
        {
          "output_type": "stream",
          "name": "stdout",
          "text": [
            "Hello Uğur, my name is Altar\n",
            "Hello Defne, my name is Altar\n",
            "Hello Can, my name is Altar\n"
          ]
        }
      ],
      "source": [
        "## YOUR CODE STARTS\n",
        "my_friends = [\"Uğur\", \"Defne\", \"Can\"]\n",
        "print(\"Hello \" + my_friends[0] + \", my name is \" + my_name)\n",
        "print(\"Hello \" + my_friends[1] + \", my name is \" + my_name)\n",
        "print(\"Hello \" + my_friends[2] + \", my name is \" + my_name)\n",
        "## YOUR CODE ENDS"
      ]
    },
    {
      "cell_type": "markdown",
      "source": [
        "<font color='#FFBD33'>**Q4:**</font> Reveal the secret message by slicing the string. **Instructions** are:  \n",
        "1. Start from **2<sup>nd</sup>** character\n",
        "2. Until **45<sup>th</sup>** character\n",
        "3. Skip by every **3** characters\n",
        "4. Finally `print` the slicing\n",
        "\n",
        "\n",
        "`(1.5 Points)`"
      ],
      "metadata": {
        "id": "Dt98tngQ6ZcK"
      },
      "id": "Dt98tngQ6ZcK"
    },
    {
      "cell_type": "code",
      "source": [
        "SECRET_MESSAGE = \"HPNGOHCLBFOBCNMXEEJZMZKBRÖZAYAMDUREORYQEİLEMFQDHSJSDFKSJDBHFSKJLK\"\n",
        "## YOUR CODE STARTS\n",
        "print(SECRET_MESSAGE[1:45:3])\n",
        "\n",
        "## YOUR CODE ENDS"
      ],
      "metadata": {
        "id": "cn045PaqHwBq",
        "colab": {
          "base_uri": "https://localhost:8080/"
        },
        "outputId": "d698e64c-01bc-407f-9b42-0215fb25f56e"
      },
      "id": "cn045PaqHwBq",
      "execution_count": 15,
      "outputs": [
        {
          "output_type": "stream",
          "name": "stdout",
          "text": [
            "POLONEZKÖYDEYİM\n"
          ]
        }
      ]
    },
    {
      "cell_type": "markdown",
      "source": [
        "<font color='#FFBD33'>**Q5:**</font> Create your own secret message this time!\n",
        "\n",
        "**Instructions are:**\n",
        "\n",
        "1. First create a secret message string by adding random characters between each character of your message. For example:\n",
        "```python\n",
        "# This is formatted as code\n",
        "MESSAGE = \"AMD\"\n",
        "YOUR_SECRET_MESSAGE = MESSAGE[0] + \"DKS\" + MESSAGE[1] + \"XYZ\" + MESSAGE[2] + \"ABC\"\n",
        "# YOUR SECRET MESSAGE should be \"ADKSMXYZDABC\"\n",
        "````\n",
        "2. Instead of writing random characters, you can call `create_random_characters()` function to generate random letters\n",
        "3. After creating your secret message, please provide a `start`, `stop`, and `increment` info to decipher your string by slicing.\n",
        "4. At the end, your slicing operation on `YOUR_SECRET_MESSAGE` should yield the same value with `YOUR_MESSAGE`\n",
        "\n",
        "\n",
        "**Notes:**\n",
        "1. Please note that random characters are at same length! Your random characters should be at same length in order to increment operator can work.\n",
        "2. Your increment value must be bigger than 1.\n",
        "\n",
        "\n",
        "`(2 Points)`"
      ],
      "metadata": {
        "id": "KNa6CjcN6fsd"
      },
      "id": "KNa6CjcN6fsd"
    },
    {
      "cell_type": "code",
      "source": [
        "# YOU MUST RUN THIS LINE\n",
        "\n",
        "# The code in below creates random string with NUMBER_OF_RANDOM_CHARACTERS of letters\n",
        "# Eg. -> random_letters=\"XYQ\" if NUMBER_OF_RANDOM_CHARACTERS=3\n",
        "import random\n",
        "import string\n",
        "def create_random_characters(NUMBER_OF_RANDOM_CHARACTERS):\n",
        "  return \"\".join(random.choices(string.ascii_uppercase, \n",
        "                                k=NUMBER_OF_RANDOM_CHARACTERS))"
      ],
      "metadata": {
        "id": "suVc9-1A59aL"
      },
      "id": "suVc9-1A59aL",
      "execution_count": 16,
      "outputs": []
    },
    {
      "cell_type": "code",
      "source": [
        "# Example usage\n",
        "print(\"Created 2 random characters are:\",create_random_characters(2))\n",
        "print(\"Created 3 random characters are:\",create_random_characters(3))\n",
        "print(\"Created 5 random characters are:\",create_random_characters(5))"
      ],
      "metadata": {
        "colab": {
          "base_uri": "https://localhost:8080/"
        },
        "id": "gosGlXvAkuWJ",
        "outputId": "28976f92-4af0-4f30-df51-e95fb5537dce"
      },
      "id": "gosGlXvAkuWJ",
      "execution_count": 19,
      "outputs": [
        {
          "output_type": "stream",
          "name": "stdout",
          "text": [
            "Created 2 random characters are: LL\n",
            "Created 3 random characters are: JBT\n",
            "Created 5 random characters are: TQEMI\n"
          ]
        }
      ]
    },
    {
      "cell_type": "code",
      "source": [
        "## YOUR CODE STARTS (DO NOT EDIT ABOVE)\n",
        "YOUR_MESSAGE = \"GEZİCİ\"\n",
        "YOUR_SECRET_MESSAGE = YOUR_MESSAGE[0] + \"QKZ\" + YOUR_MESSAGE[1] + \"PNZ\" + YOUR_MESSAGE[2] + \"QWJ\" + YOUR_MESSAGE[3] + \"XEN\" + YOUR_MESSAGE[4] + \"JBT\" + YOUR_MESSAGE[5] + \"GKY\"\n",
        "\n",
        "start = 0\n",
        "stop = 23\n",
        "increment = 4\n",
        "## YOUR CODE ENDS (DO NOT EDIT BELOW)\n",
        "\n",
        "if YOUR_SECRET_MESSAGE[start: stop: increment] == YOUR_MESSAGE:\n",
        "  print(\"Your secret message is correctly encryted!\")\n",
        "else:\n",
        "  print(\"Your secret message is incorrectly encryted! Please check your code again!\")"
      ],
      "metadata": {
        "id": "uG4qmfYIjRmR",
        "colab": {
          "base_uri": "https://localhost:8080/"
        },
        "outputId": "d23848da-360f-47b7-b6e7-315af014814a"
      },
      "id": "uG4qmfYIjRmR",
      "execution_count": 35,
      "outputs": [
        {
          "output_type": "stream",
          "name": "stdout",
          "text": [
            "Your secret message is correctly encryted!\n"
          ]
        }
      ]
    }
  ],
  "metadata": {
    "kernelspec": {
      "display_name": "Python 3 (ipykernel)",
      "language": "python",
      "name": "python3"
    },
    "language_info": {
      "codemirror_mode": {
        "name": "ipython",
        "version": 3
      },
      "file_extension": ".py",
      "mimetype": "text/x-python",
      "name": "python",
      "nbconvert_exporter": "python",
      "pygments_lexer": "ipython3",
      "version": "3.9.13"
    },
    "colab": {
      "provenance": []
    }
  },
  "nbformat": 4,
  "nbformat_minor": 5
}