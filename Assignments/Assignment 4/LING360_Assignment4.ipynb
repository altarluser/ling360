{
  "cells": [
    {
      "cell_type": "markdown",
      "metadata": {
        "id": "719fca0a-97b1-47ae-830b-00f2d6d4eec5"
      },
      "source": [
        "# <font color='#FFBD33'>**Assignment 4 - Auto Correction**</font> \n",
        "\n",
        "This is <font color='cyan'>Assignment 4</font> for the LING360 - Computational Methods in Lingustics course and it is worth a total of  <font color='cyan'>**5 points**</font>.\n",
        "The assignment covers edit distance and its utilization. \n",
        "\n",
        "The topics include:\n",
        "1. Regular Expressions\n",
        "1. Edit Distance\n",
        "\n",
        "\n",
        "There's a total of  <font color='cyan'>**2 main tasks**</font> and <font color='cyan'>**5 subs tasks**</font>. For each task, please write your code between the following lines:\n",
        "\n",
        "```\n",
        "## YOUR CODE STARTS\n",
        "\n",
        "\n",
        "\n",
        "## YOUR CODE ENDS\n",
        "```\n",
        "\n",
        "Before working on the assignment, please copy this notebook to your own drive. You can use ```Save a copy in Drive``` under the ```File``` menu on top left.\n",
        "\n",
        "Please, run every cell in your code to make sure that it works properly before submitting it. \n",
        "\n",
        "Once you are ready to submit, download two versions of your code:\n",
        "\n",
        "*   Download .ipynb\n",
        "*   Download .py\n",
        "\n",
        "These are both available under the ```File``` menu on top left. \n",
        "\n",
        "Then, compress your files (zip, rar, or whatever) and upload the compressed file to Moodle.\n",
        "\n",
        "If you have any questions, please contact with karahan.sahin@boun.edu.tr\n"
      ],
      "id": "719fca0a-97b1-47ae-830b-00f2d6d4eec5"
    },
    {
      "cell_type": "code",
      "execution_count": 1,
      "metadata": {
        "colab": {
          "base_uri": "https://localhost:8080/"
        },
        "collapsed": true,
        "id": "dac9d4a6-390b-4cd4-b405-cd0953ea438d",
        "outputId": "ad00bd90-2c2f-4e38-9987-a835bd3b5b4a"
      },
      "outputs": [
        {
          "output_type": "stream",
          "name": "stdout",
          "text": [
            "--2023-04-13 07:10:41--  https://github.com/maidis/turkish-parallel-corpora/blob/master/kde4/kde4_tr_trunk_20181124.tr\n",
            "Resolving github.com (github.com)... 140.82.112.3\n",
            "Connecting to github.com (github.com)|140.82.112.3|:443... connected.\n",
            "HTTP request sent, awaiting response... 200 OK\n",
            "Length: unspecified [text/html]\n",
            "Saving to: ‘kde4_tr_trunk_20181124.tr’\n",
            "\n",
            "kde4_tr_trunk_20181     [ <=>                ]   6.24M  --.-KB/s    in 0.1s    \n",
            "\n",
            "2023-04-13 07:10:42 (52.9 MB/s) - ‘kde4_tr_trunk_20181124.tr’ saved [6544953]\n",
            "\n"
          ]
        }
      ],
      "source": [
        "# FIRST, RUN THIS LINE (IMPORTING CORPUS FILE FROM THE SOURCE)\n",
        "! wget https://github.com/maidis/turkish-parallel-corpora/blob/master/kde4/kde4_tr_trunk_20181124.tr"
      ],
      "id": "dac9d4a6-390b-4cd4-b405-cd0953ea438d"
    },
    {
      "cell_type": "markdown",
      "metadata": {
        "id": "ea6ac10c-48ce-4c42-851d-b889fffd4ab8"
      },
      "source": [
        "## <font color='#FFBD33'>**Q1:** Get and Clean Data</font> `2 points`\n",
        "\n",
        "In computational linguistics, you might need to deal with different data sources, and most of them will be dirty and contain HTML tags, emojis, and other unnecessary content. Therefore, you need deal with them before starting to work on your data."
      ],
      "id": "ea6ac10c-48ce-4c42-851d-b889fffd4ab8"
    },
    {
      "cell_type": "markdown",
      "metadata": {
        "id": "0c280145-4eaa-4823-85f0-cd7863c2bc86"
      },
      "source": [
        "### <font color='#FFBD33'>**Q1.1:** Read and Clean Corpus</font> `0.5 Points`\n",
        "\n",
        "Just read the data and clean html tags in the data. Also lower all the characters so that we don't have to deal with sentence beginning with different versions of the same words.\n",
        "\n",
        "<font color='#FFBD33'>**Instructions:**</font>\n",
        "\n",
        "1. Import and read file `kde4_tr_trunk_20181124.tr` using the `open()` function and assign it to a variable called `corpus`, as we have seen previously.\n",
        "1. Then clean the HTML tags within the text via `re.sub()` function.\n",
        "1. Lower all characters in the corpus.\n"
      ],
      "id": "0c280145-4eaa-4823-85f0-cd7863c2bc86"
    },
    {
      "cell_type": "code",
      "execution_count": 19,
      "metadata": {
        "id": "28a2053d-ca92-4c62-84e8-2d6cdf0ec11f"
      },
      "outputs": [],
      "source": [
        "## YOUR CODE STARTS\n",
        "import re\n",
        "corpus = open(\"kde4_tr_trunk_20181124.tr\", \"r\", encoding=\"utf-8\" ).read()\n",
        "\n",
        "corpus = re.sub(r\"<.*?>+\",\" \", corpus)\n",
        "corpus = corpus.lower()\n",
        "## YOUR CODE ENDS"
      ],
      "id": "28a2053d-ca92-4c62-84e8-2d6cdf0ec11f"
    },
    {
      "cell_type": "markdown",
      "metadata": {
        "id": "aa6bf19a-5703-4ff7-8f7e-05dd8a956bb1"
      },
      "source": [
        "### <font color='#FFBD33'>**Q1.2:** Tokenize Corpus</font> `0.5 Points`\n",
        "\n",
        "Tokenize all the words after cleaning corpus the from the html tags. While tokenizing the data, remove tokens which only consist of numbers, punctuations, or single letter characters. \n",
        "\n",
        "<font color='#FFBD33'>**Instructions:**</font>\n",
        "\n",
        "1. Either tokenize via by custom function as we did in Assignment 3 or use `nltk.wordpunkt_tokenize()` function to tokenize your corpus.\n",
        "1. Assign tokenized corpus into `tokens` variable\n",
        "1. Define a variable named `cleaned_tokens` which is an empty list\n",
        "1. Iterate over `tokens` list and only append those that are not\n",
        "  1. Only consist of numbers `token.isnum() == True`\n",
        "  1. Only consist of punctuations `token.isalpha() != True`\n",
        "  1. Only consist of single character `len(token) =< 1`\n"
      ],
      "id": "aa6bf19a-5703-4ff7-8f7e-05dd8a956bb1"
    },
    {
      "cell_type": "code",
      "execution_count": 21,
      "metadata": {
        "id": "880b0968-3b02-4226-8f59-b78a8d93887d"
      },
      "outputs": [],
      "source": [
        "## YOUR CODE STARTS\n",
        "from nltk.tokenize import wordpunct_tokenize\n",
        "tokens = set(wordpunct_tokenize(corpus))\n",
        "\n",
        "cleaned_tokens = []\n",
        "\n",
        "for token in tokens:\n",
        "  if not token.isnumeric():\n",
        "    cleaned_tokens.append(token)\n",
        "  elif token.isalpha():\n",
        "    cleaned_tokens.append(token)\n",
        "  elif len(token) > 1:\n",
        "      cleaned_tokens.append(token)\n",
        "## YOUR CODE ENDS"
      ],
      "id": "880b0968-3b02-4226-8f59-b78a8d93887d"
    },
    {
      "cell_type": "markdown",
      "metadata": {
        "id": "394bb718-6ec9-46f6-8838-4e34f836e6fe"
      },
      "source": [
        "### <font color='#FFBD33'>**Q1.3:** Get Token Counts</font> `1 Points`\n",
        "\n",
        "Get the token counts and sort them in a descending order (we did this in Lab 5). The token counts will be used to provide the best suggestion by identifying the most frequent words in the corpus. When making a suggestion using edit distance, we want to pick the most frequent word.\n",
        "\n",
        "<font color='#FFBD33'>**Instructions:**</font>\n",
        "1. Create a new `Counter()` object with `cleaned_tokens` as its argument and assign it to a variable named `token_count`.\n",
        "2. Then sort the `token_count` by its counts in the corpus using the `sorted` function in descending order as we have seen in Lab 5.\n",
        "3. Finally turn it into a list again and assign it to a variable named `sorted_keywords`.\n"
      ],
      "id": "394bb718-6ec9-46f6-8838-4e34f836e6fe"
    },
    {
      "cell_type": "code",
      "execution_count": 22,
      "metadata": {
        "id": "5d349c31-a71f-492f-a886-db4aa2b968eb"
      },
      "outputs": [],
      "source": [
        "from collections import Counter\n",
        "\n",
        "## YOUR CODE STARTS\n",
        "token_count = Counter(cleaned_tokens)\n",
        "\n",
        "sorted_keywords = list(sorted(token_count.items(), key=lambda x: x[1], reverse=True))\n",
        "## YOUR CODE ENDS"
      ],
      "id": "5d349c31-a71f-492f-a886-db4aa2b968eb"
    },
    {
      "cell_type": "markdown",
      "metadata": {
        "id": "81c89e1a-4342-423f-910c-c179d6570bd4"
      },
      "source": [
        "## <font color='#FFBD33'>**Q2:** Auto Correction</font> `3 points`\n",
        "\n",
        "Now that we have the data, you can implement an auto correction module. But you don't just recommend suggestions with minimum edit distance but you will be improving them according the statistical information in your corpus. Also you will be saving the previously selected corrections. \n",
        "You will be using pre-defined edit distance library so that you don't have to implement it from scratch. \n"
      ],
      "id": "81c89e1a-4342-423f-910c-c179d6570bd4"
    },
    {
      "cell_type": "code",
      "execution_count": 23,
      "metadata": {
        "id": "f8f9624e-c722-4aa0-9950-a6d6e868fabc"
      },
      "outputs": [],
      "source": [
        "#install the editdistance library\n",
        "!pip install editdistance --quiet"
      ],
      "id": "f8f9624e-c722-4aa0-9950-a6d6e868fabc"
    },
    {
      "cell_type": "code",
      "execution_count": 24,
      "metadata": {
        "colab": {
          "base_uri": "https://localhost:8080/"
        },
        "id": "6d96c873-31fa-47aa-9ae7-12303b47544e",
        "outputId": "bf835c86-8a74-4801-8704-29933dd2ee48"
      },
      "outputs": [
        {
          "output_type": "execute_result",
          "data": {
            "text/plain": [
              "3"
            ]
          },
          "metadata": {},
          "execution_count": 24
        }
      ],
      "source": [
        "## Example usage \n",
        "# You don't have to re-invent everything on your own, just find the library for it :) \n",
        "import editdistance\n",
        "editdistance.distance(\"gelebildi\", \"gelemedi\")"
      ],
      "id": "6d96c873-31fa-47aa-9ae7-12303b47544e"
    },
    {
      "cell_type": "markdown",
      "metadata": {
        "id": "3f077a6c-e5e3-4d5c-9c9b-c2f22f212db6"
      },
      "source": [
        "### <font color='#FFBD33'>**Q2.2:** Recommend with Edit Distance</font> `1.5 Points`\n",
        "\n",
        "Write your suggestion function using the algorithm below.\n",
        "\n",
        "<font color='#FFBD33'>**Instructions:**</font>\n",
        "1. First, check whether you have the word in your corpus. If it is, return a list containing only your target `word`.\n",
        "1. If it is not available in your corpus, check the edit distance between your target word and each word in the corpus using a `for` loop.\n",
        "1. After saving the edit distance between each word in the corpus and your target word, find the minimum edit distance and assign it to a variable named `min_dist`.\n",
        "1. Define an empty list called `suggestions`.\n",
        "1. Then iterate over `sorted_keywords` and add suggested words (i.e. words with the minimum edit distance from your target word) to the `suggestions` list until the list has a length of `n_suggestions`, which is a parameter determining how many words will be suggested by your function.\n",
        "1. Finally return the `suggestions` list."
      ],
      "id": "3f077a6c-e5e3-4d5c-9c9b-c2f22f212db6"
    },
    {
      "cell_type": "code",
      "execution_count": 50,
      "metadata": {
        "id": "pqCh51yyijfd"
      },
      "outputs": [],
      "source": [
        "def getSuggestionsWithEditDistance(word, n_suggestions):\n",
        "    \"\"\"\n",
        "    Suggest number of candidates which for a given possible incorrect word.\n",
        "    \"\"\"\n",
        "    ## YOUR CODE STARTS\n",
        "    candidates = []\n",
        "    if word in sorted_keywords:\n",
        "      candidates.append(word[0])\n",
        "      return candidates\n",
        "    else:\n",
        "      distance_list = []\n",
        "      for candidate in sorted_keywords:\n",
        "        distance = editdistance.distance(candidate[0], word)\n",
        "        distance_list.append(distance)\n",
        "      \n",
        "      min_dist = min(distance_list)\n",
        "\n",
        "      suggestions = []\n",
        "      for candidate in sorted_keywords:\n",
        "        if min_dist == editdistance.distance(candidate[0], word):\n",
        "          suggestions.append(candidate[0])\n",
        "          if len(suggestions) == n_suggestions:\n",
        "            break\n",
        "        \n",
        "      return suggestions\n",
        "    ## YOUR CODE ENDS"
      ],
      "id": "pqCh51yyijfd"
    },
    {
      "cell_type": "code",
      "execution_count": 51,
      "metadata": {
        "colab": {
          "base_uri": "https://localhost:8080/"
        },
        "id": "Cnw1lDaj_hmY",
        "outputId": "275a0d2d-358c-427c-e6a8-baf844bc8c51"
      },
      "outputs": [
        {
          "output_type": "execute_result",
          "data": {
            "text/plain": [
              "['gelmesi']"
            ]
          },
          "metadata": {},
          "execution_count": 51
        }
      ],
      "source": [
        "getSuggestionsWithEditDistance(\"gelmesm\", 3)"
      ],
      "id": "Cnw1lDaj_hmY"
    },
    {
      "cell_type": "markdown",
      "metadata": {
        "id": "7924c8b1-0ff8-4a41-8fe1-a5beb5dd361f"
      },
      "source": [
        "### <font color='#FFBD33'>**Q2.3:** Final Product</font> `1.5 Points`\n",
        "\n",
        "Final product can be utilized in everyday life, so you will be writing a mini application on top of it. \n",
        "\n",
        "<font color='#FFBD33'>**Instructions:**</font>\n",
        "1. Take input from the user via using `input()` function and assign it to a variable named `candidate`.\n",
        "1. Then run the `getSuggestionsWithEditDistance()` where `n_suggestion=5` for input word, and .\n",
        "1. Print each option with its correct index via using the `enumerate()` function as \"`index`. `suggestion`\".\n",
        "1. Ask the index from the user and save the corresponding incorrect-correct match to `MEMORY` dictionary.\n",
        "1. Go back to the top, first try to find the `word` in `MEMORY`, so that you don't need to calculate over and over again.\n",
        "1. If it is in `MEMORY`, print \"The correct word is `your_word`\".\n",
        "\n",
        "<font color='#FFBD33'>**Note:**</font>\n",
        "1. `input()` function returns only strings, so if you are giving numerical input, please translate to integer via `int()`.\n",
        "2. Do not print suggestions if you have an answer in the `MEMORY`.\n",
        "3. Example Usage of `enumerate()`\n",
        "  ```python\n",
        "  my_list = [\"a\", \"b\", \"c\"]\n",
        "  for i in enumerate(my_list):\n",
        "    print(i)\n",
        "\n",
        "  # Output:\n",
        "  # (0, \"a\")\n",
        "  # (1, \"b\")\n",
        "  # (2, \"c\")\n",
        "  ```"
      ],
      "id": "7924c8b1-0ff8-4a41-8fe1-a5beb5dd361f"
    },
    {
      "cell_type": "markdown",
      "metadata": {
        "id": "26651588-1b40-4baf-bb41-217898a9bbb3"
      },
      "source": [
        "###  <font color='#FFBD33'>Example Outputs</font>\n",
        "1. First Example\n",
        "\n",
        "```bash\n",
        "Your word is: gelmesm\n",
        "Selected corrected version:\n",
        "0. gelemedi\n",
        "1. gelmedi\n",
        "2. gelmesi\n",
        "3. gelmezdi\n",
        "\n",
        "Please give your response: 3\n",
        "Your answer is saved as \"gelmesm -> gelmezdi\"\n",
        "```\n",
        "\n",
        "2. After first example\n",
        "\n",
        "```bash\n",
        "Your word is: gelmesm\n",
        "The correct word is \"gelmezdi\"\n",
        "```"
      ],
      "id": "26651588-1b40-4baf-bb41-217898a9bbb3"
    },
    {
      "cell_type": "code",
      "execution_count": 52,
      "metadata": {
        "id": "673906c8-161b-4d13-a195-5dea140f4041"
      },
      "outputs": [],
      "source": [
        "MEMORY = {}"
      ],
      "id": "673906c8-161b-4d13-a195-5dea140f4041"
    },
    {
      "cell_type": "code",
      "execution_count": 53,
      "metadata": {
        "id": "1758fb5b-f6fd-4b59-aac6-a82326e1cf7f"
      },
      "outputs": [],
      "source": [
        "def AutoCorrect(word):\n",
        "    \"\"\"\n",
        "    AutoCorrect function translates incorrect words into correct\n",
        "    -i: \n",
        "      word:string: incorrect word candidate\n",
        "    :returns: None\n",
        "    \"\"\"\n",
        "    ## YOUR CODE STARTS\n",
        "    candidate = input('Your word is: ')\n",
        "    if candidate in MEMORY:\n",
        "      print('The correct word is  \"{}\"'.format(MEMORY[candidate]))\n",
        "    else:\n",
        "      suggested_words = getSuggestionsWithEditDistance(candidate, 5)\n",
        "\n",
        "      print(\"Selected correct version:\")\n",
        "      for suggested_word in enumerate(suggested_words):\n",
        "        print(suggested_word)\n",
        "      selected_suggestion = int(input(\"Please give your response: \"))\n",
        "      MEMORY[candidate] = suggested_words[selected_suggestion]\n",
        "      print('Your answer is saved as \"{} -> {}\"'.format(candidate, suggested_words[selected_suggestion]))\n",
        "    ## YOUR CODE ENDS\n",
        "    pass"
      ],
      "id": "1758fb5b-f6fd-4b59-aac6-a82326e1cf7f"
    },
    {
      "cell_type": "code",
      "execution_count": 54,
      "metadata": {
        "colab": {
          "base_uri": "https://localhost:8080/"
        },
        "id": "ih5lI75fIQt9",
        "outputId": "a3a785b4-7b09-409d-f0d5-b7208ef0c145"
      },
      "outputs": [
        {
          "output_type": "stream",
          "name": "stdout",
          "text": [
            "Your word is: gelmesm\n",
            "Selected correct version:\n",
            "(0, 'gelmesi')\n",
            "Please give your response: 0\n",
            "Your answer is saved as \"gelmesm -> gelmesi\"\n"
          ]
        }
      ],
      "source": [
        "AutoCorrect(\"word\")"
      ],
      "id": "ih5lI75fIQt9"
    }
  ],
  "metadata": {
    "colab": {
      "provenance": []
    },
    "kernelspec": {
      "display_name": "Python 3 (ipykernel)",
      "language": "python",
      "name": "python3"
    },
    "language_info": {
      "codemirror_mode": {
        "name": "ipython",
        "version": 3
      },
      "file_extension": ".py",
      "mimetype": "text/x-python",
      "name": "python",
      "nbconvert_exporter": "python",
      "pygments_lexer": "ipython3",
      "version": "3.9.13"
    }
  },
  "nbformat": 4,
  "nbformat_minor": 5
}