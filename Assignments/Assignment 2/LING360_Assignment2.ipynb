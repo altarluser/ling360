{
  "cells": [
    {
      "cell_type": "markdown",
      "id": "7c406375-235d-4ed7-9b96-2e8879e0f5d3",
      "metadata": {
        "id": "7c406375-235d-4ed7-9b96-2e8879e0f5d3"
      },
      "source": [
        "# Assignment 2 - Regular Expressions\n",
        "\n",
        "This is <font color='cyan'>Assignment 2</font> for the LING360 - Computational Methods in Lingustics course and it is worth a total of  <font color='cyan'>**5 points**</font>.\n",
        "The assignment covers the basics of Python and Regular Expressions. \n",
        "\n",
        "The topics include:\n",
        "1. Regular Expressions\n",
        "2. Lists\n",
        "3. Printing with formatting\n",
        "\n",
        "There's a total of  <font color='cyan'>**3 main tasks**</font>. For each task, please write your code between the following lines:\n",
        "\n",
        "```\n",
        "## YOUR CODE STARTS\n",
        "\n",
        "\n",
        "\n",
        "## YOUR CODE ENDS\n",
        "```\n",
        "\n",
        "Before working on the assignment, please copy this notebook to your own drive. You can use ```Save a copy in Drive``` under the ```File``` menu on top left.\n",
        "\n",
        "Please, run every cell in your code to make sure that it works properly before submitting it. \n",
        "\n",
        "Once you are ready to submit, download two versions of your code:\n",
        "\n",
        "*   Download .ipynb\n",
        "*   Download .py\n",
        "\n",
        "These are both available under the ```File``` menu on top left. \n",
        "\n",
        "Then, compress your files (zip, rar, or whatever) and upload the compressed file to Moodle.\n",
        "\n",
        "If you have any questions, please contact karahan.sahin@boun.edu.tr\n"
      ]
    },
    {
      "cell_type": "code",
      "execution_count": 2,
      "id": "e3d8d2c4-c9df-4bbc-a607-8fd874119117",
      "metadata": {
        "id": "e3d8d2c4-c9df-4bbc-a607-8fd874119117"
      },
      "outputs": [],
      "source": [
        "# RUN THIS LINE FIRST\n",
        "import re"
      ]
    },
    {
      "cell_type": "markdown",
      "id": "cfa126cf-78cb-4baa-bdd3-009194026c16",
      "metadata": {
        "id": "cfa126cf-78cb-4baa-bdd3-009194026c16"
      },
      "source": [
        "<font color='#FFBD33'>**Q1:**</font> `1.5 points`\n",
        "\n",
        "Consider a regular language with $\\Sigma = \\{ a, c, l, o, s, y, git, ti, m, \"\\space\" \\}$. Translate the regular expressions below into strings. Notice that the order of string operations matters.\n",
        "\n",
        "1. $y \\cdot (a)^5 \\cdot (s)^2$ \n",
        "\n",
        "1. $(\"\\space\" git)^3 \\cdot (ti)^1 \\cdot m$\n",
        "\n",
        "1. $ ( c \\cdot (o)^2 \\cdot l )^2 \\cdot (\"\\space\" \\cdot c \\cdot (o))^3 \\cdot ( c \\cdot (o)^2 \\cdot l)$"
      ]
    },
    {
      "cell_type": "code",
      "execution_count": 31,
      "id": "98b10a49-2227-4e9f-9f13-4d4ef286e97f",
      "metadata": {
        "id": "98b10a49-2227-4e9f-9f13-4d4ef286e97f",
        "colab": {
          "base_uri": "https://localhost:8080/"
        },
        "outputId": "bcdbadb9-fdf5-4a83-ad52-04359b5a5e13"
      },
      "outputs": [
        {
          "output_type": "stream",
          "name": "stdout",
          "text": [
            "yaaaaass\n",
            "\" \"git\" \"git\" \"gittim\n",
            "coolcool\" \"co\" \"co\" \"cocool\n"
          ]
        }
      ],
      "source": [
        "# YOUR CODE STARTS\n",
        "\n",
        "statement_1 = \"y\" + \"a\"*5 + \"s\"*2\n",
        "statement_2 = (\"\\\" \\\"\"+ \"git\")*3 + (\"ti\")*1 + \"m\"\n",
        "statement_3 = (\"c\" + \"o\"*2 + \"l\")*2 + (\"\\\" \\\"\" + \"c\" + \"o\")*3 + (\"c\" + \"o\"*2 + \"l\")\n",
        "\n",
        "print(statement_1 + \"\\n\" + statement_2 + \"\\n\" + statement_3)\n",
        "\n",
        "# YOUR CODE END"
      ]
    },
    {
      "cell_type": "markdown",
      "id": "9335e81a-9375-42de-a697-3974bb917865",
      "metadata": {
        "id": "9335e81a-9375-42de-a697-3974bb917865"
      },
      "source": [
        "<font color='#FFBD33'>**Q2:**</font> `1.5 points` \n",
        "\n",
        "For each date given in the `dates` list, find the day, month, and year information via a single regular expression and print the information using the format below:\n",
        "\n",
        "`\"Day: your_date, Month: your_month, Year: your_year\"`. \n",
        "\n",
        "**For example:**\n",
        "\n",
        " * Day: 18, Month: 3, Year: 1915\n",
        "\n",
        "\n",
        "<font color='#FFBD33'>**NOTES:**</font>\n",
        "\n",
        "1. You must use only <font color='#FFBD33'>**one regex pattern**</font>  which you define at `YOUR_REGEX` in your `re.findall()`\n",
        "\n",
        "1. You can either `for` loops or print each date by accessing it via an index."
      ]
    },
    {
      "cell_type": "code",
      "execution_count": 24,
      "id": "86bab844-8e56-4c61-952a-ff844d250094",
      "metadata": {
        "id": "86bab844-8e56-4c61-952a-ff844d250094"
      },
      "outputs": [],
      "source": [
        "# DO NOT EDIT BELOW\n",
        "dates = [\n",
        "  \"26.02.2022\",\n",
        "  \"11/7/1982\",\n",
        "  \"13-11-2055\",\n",
        "  \"26  10 2022\",\n",
        "]\n",
        "# DO NOT EDIT ABOVE"
      ]
    },
    {
      "cell_type": "code",
      "execution_count": 27,
      "id": "56e067c3-dd81-4024-a782-9c513cbfbcc0",
      "metadata": {
        "id": "56e067c3-dd81-4024-a782-9c513cbfbcc0",
        "colab": {
          "base_uri": "https://localhost:8080/"
        },
        "outputId": "c90dfbd4-d156-47aa-e9d9-29bec740ed2d"
      },
      "outputs": [
        {
          "output_type": "stream",
          "name": "stdout",
          "text": [
            "Day: 26, Month: 2, Year: 2022\n",
            "Day: 11, Month: 7, Year: 1982\n",
            "Day: 13, Month: 11, Year: 2055\n",
            "Day: 26, Month: 10, Year: 2022\n"
          ]
        }
      ],
      "source": [
        "# YOUR CODE STARTS\n",
        "\n",
        "YOUR_REGEX = re.compile(\"(\\d{2})[ ./-]*([1-9]?[0-9])*[ ./-]*(\\d{4})\")\n",
        "matches = re.findall(YOUR_REGEX, str(dates))\n",
        "# Instead of doing it in two lines, we could utilized the following code alone: re.findall(\"(\\d{2})[ ./-]*([1-9]?[0-9])*[ ./-]*(\\d{4})\", str(dates))\n",
        "\n",
        "for date in matches:\n",
        "   print(\"Day: {}, Month: {}, Year: {}\".format(date[0], date[1], date[2]))\n",
        "   \n",
        "# YOUR CODE ENDS"
      ]
    },
    {
      "cell_type": "markdown",
      "id": "66628338-5372-4791-bbb1-d4a0cd6f0fe7",
      "metadata": {
        "id": "66628338-5372-4791-bbb1-d4a0cd6f0fe7"
      },
      "source": [
        "<font color='#FFBD33'>**Q3:**</font> \n",
        "`2 points` As a linguist, your work contains analyzing the statistics of phenomena which you are investigating. For example, you might be interested in the frequency distribution of the accusative (ismin -i hali) and dative suffixes (ismin -e hali) in a corpus. To do that, you need to be able to identify words that end with one of these suffixes. The following task is a step towards writing some code that can identify some suffixes in Turkish. \n",
        "\n",
        "\n",
        "<font color='#FFBD33'>**INSTRUCTIONS:**</font>\n",
        "\n",
        "Write some code that:\n",
        "\n",
        " * finds all subject-verb agreement suffixes using a regular expression.\n",
        " the suffixes in the `sentences` list using a regular expression.\n",
        " * returns a `list` of subject-verb agreement suffixes found in the `sentences` list. The name of your list must be `YOUR_SUFFIXES`.\n",
        " * finally, prints `YOUR_SUFFIXES` list. The output should look like:\n",
        "   * `[\"suffix_1\", \"suffix_2\", \"suffix_3\", ... ]`\n",
        "\n",
        "\n",
        "\n",
        "<font color='#FFBD33'>**HINTS:**</font>\n",
        "\n",
        "1. In order to add an item in a list, check the `list methods` in Lab 2.\n",
        "\n",
        "1. In order to check multiple sequences, check the `disjunction` operator in the regex cheatsheet.\n",
        "\n",
        "<font color='#FFBD33'>**NOTES:**</font>\n",
        "\n",
        "1. Consider **unnecessary punctuations** at the end of the sentences.\n",
        "\n",
        "1. To access each sentence in the list, you can either use `for` loops or indexing.\n"
      ]
    },
    {
      "cell_type": "code",
      "execution_count": 28,
      "id": "17fa824d-5665-437b-8bc7-decbe8a7f0a7",
      "metadata": {
        "id": "17fa824d-5665-437b-8bc7-decbe8a7f0a7"
      },
      "outputs": [],
      "source": [
        "sentences = [\n",
        " 'ben geldim',\n",
        " 'gördüm',\n",
        " 'ama o daha gelmemişti.',\n",
        " 'sen biliyorsun...',\n",
        " 'onlar anlamazlar!',\n",
        " 'nasılsınız?',\n",
        " 'iyiyiz\"',\n",
        "]"
      ]
    },
    {
      "cell_type": "code",
      "execution_count": 29,
      "id": "5e9aa18b-1010-4481-9671-fbf649576cd6",
      "metadata": {
        "id": "5e9aa18b-1010-4481-9671-fbf649576cd6",
        "colab": {
          "base_uri": "https://localhost:8080/"
        },
        "outputId": "8d2bd266-d12e-4679-8d8f-940cc0753907"
      },
      "outputs": [
        {
          "output_type": "stream",
          "name": "stdout",
          "text": [
            "Suffixes: [['m'], ['m'], [], ['sun'], ['lar'], ['sınız'], ['yiz']]\n"
          ]
        }
      ],
      "source": [
        "YOUR_SUFFIXES = []\n",
        "# YOUR CODE STARTS\n",
        "suffix_detect = re.compile(\"(m|s[ıiuü]n|l[ae]r|s[ıiuü]n[ıiuü]z|y?[ıiuü]z)[^A-z]*$\")\n",
        "#matches = re.findall(suffix_detector, str(sentences))\n",
        "\n",
        "for sentence in sentences:\n",
        "  suffix = re.findall(suffix_detect, sentence)\n",
        "  YOUR_SUFFIXES.append(suffix)\n",
        "\n",
        "print(\"Suffixes: {}\".format(YOUR_SUFFIXES))\n",
        "\n",
        "# YOUR CODE ENDS\n"
      ]
    }
  ],
  "metadata": {
    "kernelspec": {
      "display_name": "Python 3 (ipykernel)",
      "language": "python",
      "name": "python3"
    },
    "language_info": {
      "codemirror_mode": {
        "name": "ipython",
        "version": 3
      },
      "file_extension": ".py",
      "mimetype": "text/x-python",
      "name": "python",
      "nbconvert_exporter": "python",
      "pygments_lexer": "ipython3",
      "version": "3.9.13"
    },
    "colab": {
      "provenance": []
    }
  },
  "nbformat": 4,
  "nbformat_minor": 5
}